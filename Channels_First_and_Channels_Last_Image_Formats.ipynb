{
  "nbformat": 4,
  "nbformat_minor": 0,
  "metadata": {
    "colab": {
      "name": "Channels-First and Channels-Last Image Formats.ipynb",
      "provenance": [],
      "collapsed_sections": [],
      "authorship_tag": "ABX9TyNoLTdJXUQd7P8EaPcuKgI6",
      "include_colab_link": true
    },
    "kernelspec": {
      "name": "python3",
      "display_name": "Python 3"
    },
    "language_info": {
      "name": "python"
    }
  },
  "cells": [
    {
      "cell_type": "markdown",
      "metadata": {
        "id": "view-in-github",
        "colab_type": "text"
      },
      "source": [
        "<a href=\"https://colab.research.google.com/github/MuhammadRustamShomi/Group_Study/blob/main/Channels_First_and_Channels_Last_Image_Formats.ipynb\" target=\"_parent\"><img src=\"https://colab.research.google.com/assets/colab-badge.svg\" alt=\"Open In Colab\"/></a>"
      ]
    },
    {
      "cell_type": "code",
      "source": [
        "## Download Image from this adress \"https://machinelearningmastery.com/wp-content/uploads/2019/01/penguin_arade.jpg\""
      ],
      "metadata": {
        "id": "JzA9ij7nXN-T"
      },
      "execution_count": 13,
      "outputs": []
    },
    {
      "cell_type": "code",
      "execution_count": 4,
      "metadata": {
        "colab": {
          "base_uri": "https://localhost:8080/"
        },
        "id": "joVVZEZ2UvEE",
        "outputId": "ab0162d1-8266-4124-ab04-76410e9c5515"
      },
      "outputs": [
        {
          "output_type": "stream",
          "name": "stdout",
          "text": [
            "datashape (424, 640)\n",
            "ch_first (1, 424, 640)\n",
            "ch_last (424, 640, 1)\n"
          ]
        }
      ],
      "source": [
        "# example of expanding dimensions\n",
        "from numpy import expand_dims\n",
        "from numpy import asarray\n",
        "from PIL import Image\n",
        "# load the image\n",
        "img = Image.open('/content/penguin_arade.jpg')\n",
        "# convert the image to grayscale\n",
        "img = img.convert(mode='L')\n",
        "# convert to numpy array\n",
        "data = asarray(img)\n",
        "print(\"datashape\",data.shape)\n",
        "# add channels first\n",
        "data_first = expand_dims(data, axis=0)\n",
        "print('ch_first',data_first.shape)\n",
        "# add channels last\n",
        "data_last = expand_dims(data, axis=2)\n",
        "print('ch_last',data_last.shape)"
      ]
    },
    {
      "cell_type": "code",
      "source": [
        "data = data.reshape((424, 640, 1))\n",
        "data"
      ],
      "metadata": {
        "colab": {
          "base_uri": "https://localhost:8080/"
        },
        "id": "CHGOVGn7VqaU",
        "outputId": "4701c337-453d-489d-97d7-97e701d22515"
      },
      "execution_count": 6,
      "outputs": [
        {
          "output_type": "execute_result",
          "data": {
            "text/plain": [
              "array([[[ 97],\n",
              "        [ 98],\n",
              "        [ 99],\n",
              "        ...,\n",
              "        [135],\n",
              "        [136],\n",
              "        [136]],\n",
              "\n",
              "       [[ 97],\n",
              "        [ 98],\n",
              "        [100],\n",
              "        ...,\n",
              "        [138],\n",
              "        [137],\n",
              "        [137]],\n",
              "\n",
              "       [[102],\n",
              "        [103],\n",
              "        [105],\n",
              "        ...,\n",
              "        [142],\n",
              "        [142],\n",
              "        [142]],\n",
              "\n",
              "       ...,\n",
              "\n",
              "       [[ 51],\n",
              "        [ 63],\n",
              "        [ 44],\n",
              "        ...,\n",
              "        [124],\n",
              "        [151],\n",
              "        [158]],\n",
              "\n",
              "       [[ 68],\n",
              "        [ 79],\n",
              "        [ 75],\n",
              "        ...,\n",
              "        [163],\n",
              "        [192],\n",
              "        [184]],\n",
              "\n",
              "       [[ 56],\n",
              "        [ 56],\n",
              "        [ 57],\n",
              "        ...,\n",
              "        [170],\n",
              "        [168],\n",
              "        [123]]], dtype=uint8)"
            ]
          },
          "metadata": {},
          "execution_count": 6
        }
      ]
    },
    {
      "cell_type": "code",
      "source": [
        "# change image from channels last to channels first format\n",
        "from numpy import moveaxis\n",
        "from numpy import asarray\n",
        "from PIL import Image\n",
        "# load the color image\n",
        "img = Image.open('/content/penguin_arade.jpg')\n",
        "# convert to numpy array\n",
        "data = asarray(img)\n",
        "print('datashape',data.shape)\n",
        "# change channels last to channels first format\n",
        "data = moveaxis(data, 2, 0)\n",
        "print(data.shape)\n",
        "# change channels first to channels last format\n",
        "data = moveaxis(data, 0, 2)\n",
        "print(data.shape)"
      ],
      "metadata": {
        "colab": {
          "base_uri": "https://localhost:8080/"
        },
        "id": "b9CKSKFnV8tT",
        "outputId": "32a48904-6e0c-4095-97c4-c6e14ae9984c"
      },
      "execution_count": 8,
      "outputs": [
        {
          "output_type": "stream",
          "name": "stdout",
          "text": [
            "datashape (424, 640, 3)\n",
            "(3, 424, 640)\n",
            "(424, 640, 3)\n"
          ]
        }
      ]
    },
    {
      "cell_type": "code",
      "source": [
        "{\n",
        "    \"image_data_format\": \"channels_last\",\n",
        "    \"backend\": \"tensorflow\",\n",
        "    \"epsilon\": 1e-07,\n",
        "    \"floatx\": \"float32\"\n",
        "}"
      ],
      "metadata": {
        "colab": {
          "base_uri": "https://localhost:8080/"
        },
        "id": "0BylZIiRWSfU",
        "outputId": "876c2ddd-1036-4e22-bcc9-71556d03d70d"
      },
      "execution_count": 9,
      "outputs": [
        {
          "output_type": "execute_result",
          "data": {
            "text/plain": [
              "{'backend': 'tensorflow',\n",
              " 'epsilon': 1e-07,\n",
              " 'floatx': 'float32',\n",
              " 'image_data_format': 'channels_last'}"
            ]
          },
          "metadata": {},
          "execution_count": 9
        }
      ]
    },
    {
      "cell_type": "code",
      "source": [
        "# show preferred channel order\n",
        "from keras import backend\n",
        "print(backend.image_data_format())"
      ],
      "metadata": {
        "colab": {
          "base_uri": "https://localhost:8080/"
        },
        "id": "8gFC2zaCWkPl",
        "outputId": "bb9076c0-dc17-4207-9772-01b1eed8b325"
      },
      "execution_count": 11,
      "outputs": [
        {
          "output_type": "stream",
          "name": "stdout",
          "text": [
            "channels_last\n"
          ]
        }
      ]
    },
    {
      "cell_type": "code",
      "source": [
        "# force a channel ordering\n",
        "from keras import backend\n",
        "# force channels-first ordering\n",
        "backend.set_image_data_format('channels_first')\n",
        "print(backend.image_data_format())\n",
        "# force channels-last ordering\n",
        "backend.set_image_data_format('channels_last')\n",
        "print(backend.image_data_format())"
      ],
      "metadata": {
        "colab": {
          "base_uri": "https://localhost:8080/"
        },
        "id": "-zUssneGW7WS",
        "outputId": "5dc3cca6-0051-428a-d6e2-ec5e9a8ed4ea"
      },
      "execution_count": 12,
      "outputs": [
        {
          "output_type": "stream",
          "name": "stdout",
          "text": [
            "channels_first\n",
            "channels_last\n"
          ]
        }
      ]
    }
  ]
}
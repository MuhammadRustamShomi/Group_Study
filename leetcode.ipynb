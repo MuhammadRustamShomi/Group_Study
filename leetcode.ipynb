{
 "cells": [
  {
   "cell_type": "code",
   "execution_count": 1,
   "id": "4a48a2fb",
   "metadata": {},
   "outputs": [
    {
     "data": {
      "text/plain": [
       "True"
      ]
     },
     "execution_count": 1,
     "metadata": {},
     "output_type": "execute_result"
    }
   ],
   "source": [
    "def check(nums):\n",
    "        if nums == sorted(nums):\n",
    "            return True\n",
    "        \n",
    "        idx = 0\n",
    "        \n",
    "        for i in range(1, len(nums)):\n",
    "            if nums[i] < nums[idx]:\n",
    "                idx = i\n",
    "                break\n",
    "            idx += 1\n",
    "\n",
    "        return nums[idx:] + nums[:idx] == sorted(nums)\n",
    "check([3,4,5,1,2])"
   ]
  },
  {
   "cell_type": "code",
   "execution_count": 11,
   "id": "17c4cf84",
   "metadata": {},
   "outputs": [
    {
     "name": "stdout",
     "output_type": "stream",
     "text": [
      "True\n",
      "[1, 2]\n",
      "[3, 4, 5]\n"
     ]
    }
   ],
   "source": [
    "nums = [3,4,5,1,2]\n",
    "if sorted(nums)==nums:\n",
    "    print(False)\n",
    "idx = 0\n",
    "\n",
    "for i in range(1,len(nums)):\n",
    "    if nums[i]<nums[idx]:\n",
    "        idx = i\n",
    "        #print(i)\n",
    "        break\n",
    "    idx += 1\n",
    "print(nums[idx:]+ nums[:idx] == sorted(nums))\n",
    "print(nums[idx:])\n",
    "print(nums[:idx])"
   ]
  },
  {
   "cell_type": "code",
   "execution_count": 4,
   "id": "614c2eeb",
   "metadata": {},
   "outputs": [
    {
     "data": {
      "text/plain": [
       "[1, 2, 3, 4, 5, 6]"
      ]
     },
     "execution_count": 4,
     "metadata": {},
     "output_type": "execute_result"
    }
   ],
   "source": [
    "import math\n",
    "def findKDistantIndices(nums, key,k):\n",
    "        keys = [-math.inf] + [idx for idx, num in enumerate(nums) if num == key] + [math.inf]\n",
    "        N = len(nums)\n",
    "        res = []\n",
    "        left = 0\n",
    "        \n",
    "        for i in range(N):\n",
    "            if i - keys[left] <= k or keys[left + 1] - i <= k:\n",
    "                res.append(i)\n",
    "            if keys[left + 1] == i:\n",
    "                left += 1\n",
    "        return res\n",
    "findKDistantIndices([3,4,9,1,3,9,5],9,1)"
   ]
  },
  {
   "cell_type": "code",
   "execution_count": 12,
   "id": "5fad46c3",
   "metadata": {},
   "outputs": [
    {
     "name": "stdout",
     "output_type": "stream",
     "text": [
      "[0]\n",
      "[0, 1]\n",
      "[0, 1, 2]\n",
      "1\n",
      "[0, 1, 2, 3]\n",
      "[0, 1, 2, 3, 4]\n",
      "[0, 1, 2, 3, 4, 5]\n",
      "2\n",
      "[0, 1, 2, 3, 4, 5, 6]\n",
      "[0, 1, 2, 3, 4, 5, 6, 7]\n",
      "3\n",
      "[0, 1, 2, 3, 4, 5, 6, 7, 8]\n",
      "[0, 1, 2, 3, 4, 5, 6, 7, 8]\n"
     ]
    }
   ],
   "source": [
    "nums=[3,4,9,1,3,9,5,9,5]\n",
    "key = 9\n",
    "k = 2\n",
    "keys = [-math.inf]+ [idx for idx , num in enumerate(nums) if num == key] + [math.inf]\n",
    "N = len(nums)\n",
    "res = []\n",
    "left = 0\n",
    "for i in range(N):\n",
    "    if i - keys[left]<= k or keys [left+1] - i <= k:\n",
    "        res.append(i)\n",
    "        print(res)\n",
    "    if keys[left+1]== i :\n",
    "        left += 1\n",
    "        print(left)\n",
    "print(res)"
   ]
  },
  {
   "cell_type": "code",
   "execution_count": 2,
   "id": "d3c17175",
   "metadata": {},
   "outputs": [
    {
     "data": {
      "text/plain": [
       "['abc', 'def', 'ghi', 'jxx']"
      ]
     },
     "execution_count": 2,
     "metadata": {},
     "output_type": "execute_result"
    }
   ],
   "source": [
    "def divideString(s, k,fill):\n",
    "        l=[]\n",
    "        if len(s)%k!=0:\n",
    "            s+=fill*(k-len(s)%k)\n",
    "        for i in range(0,len(s),k):\n",
    "            l.append(s[i:i+k])\n",
    "        return l\n",
    "divideString(\"abcdefghij\",3,\"x\")\n",
    "    "
   ]
  },
  {
   "cell_type": "code",
   "execution_count": 8,
   "id": "e1006d05",
   "metadata": {},
   "outputs": [
    {
     "data": {
      "text/plain": [
       "False"
      ]
     },
     "execution_count": 8,
     "metadata": {},
     "output_type": "execute_result"
    }
   ],
   "source": [
    " def canThreePartsEqualSum(A):\n",
    "        S = sum(A)\n",
    "        if S % 3 != 0: return False\n",
    "        g, C, p = S//3, 0, 0\n",
    "        for a in A[:-1]:\n",
    "            C += a\n",
    "        if C == g:\n",
    "            if p == 1: return True\n",
    "            C, p = 0, 1\n",
    "        return False\n",
    "canThreePartsEqualSum([0,2,1,-6,6,-7,9,1,2,0,1])"
   ]
  },
  {
   "cell_type": "code",
   "execution_count": 9,
   "id": "f240cdbd",
   "metadata": {},
   "outputs": [
    {
     "data": {
      "text/plain": [
       "True"
      ]
     },
     "execution_count": 9,
     "metadata": {},
     "output_type": "execute_result"
    }
   ],
   "source": [
    "def canThreePartsEqualSum(arr):\n",
    "        s = sum(arr)\n",
    "        if s % 3:\n",
    "            return False\n",
    "        \n",
    "        part_sum = s / 3\n",
    "        \n",
    "        cur_sum = parts = 0\n",
    "        for num in arr:\n",
    "            cur_sum += num\n",
    "            if cur_sum == part_sum:\n",
    "                if parts == 2:\n",
    "                    return True\n",
    "                cur_sum = 0\n",
    "                parts += 1\n",
    "        \n",
    "        return False\n",
    "canThreePartsEqualSum([0,2,1,-6,6,-7,9,1,2,0,1])"
   ]
  },
  {
   "cell_type": "code",
   "execution_count": 21,
   "id": "e4486a57",
   "metadata": {},
   "outputs": [
    {
     "name": "stdout",
     "output_type": "stream",
     "text": [
      "True\n"
     ]
    }
   ],
   "source": [
    "arr = [0,2,1,-6,6,-7,9,1,2,0,1]\n",
    "s = sum(arr)\n",
    "#print(s)\n",
    "if s%3:\n",
    "    print(False)\n",
    "part_sum = s/3\n",
    "cur_sum = parts = 0\n",
    "for num in arr:\n",
    "    cur_sum += num\n",
    "    if cur_sum == part_sum:\n",
    "        if parts == 2:\n",
    "            print(True)\n",
    "        cur_sum = 0\n",
    "        parts += 1\n",
    "\n"
   ]
  },
  {
   "cell_type": "code",
   "execution_count": 15,
   "id": "50cd17c5",
   "metadata": {},
   "outputs": [
    {
     "data": {
      "text/plain": [
       "1"
      ]
     },
     "execution_count": 15,
     "metadata": {},
     "output_type": "execute_result"
    }
   ],
   "source": [
    "a = 10\n",
    "a%3"
   ]
  },
  {
   "cell_type": "code",
   "execution_count": 5,
   "id": "4aacbe5d",
   "metadata": {},
   "outputs": [
    {
     "ename": "ModuleNotFoundError",
     "evalue": "No module named 'tree'",
     "output_type": "error",
     "traceback": [
      "\u001b[1;31m---------------------------------------------------------------------------\u001b[0m",
      "\u001b[1;31mModuleNotFoundError\u001b[0m                       Traceback (most recent call last)",
      "\u001b[1;32m~\\AppData\\Local\\Temp/ipykernel_11916/217652724.py\u001b[0m in \u001b[0;36m<module>\u001b[1;34m\u001b[0m\n\u001b[0;32m      1\u001b[0m \u001b[1;32mimport\u001b[0m \u001b[0mnumpy\u001b[0m \u001b[1;32mas\u001b[0m \u001b[0mnp\u001b[0m\u001b[1;33m\u001b[0m\u001b[1;33m\u001b[0m\u001b[0m\n\u001b[1;32m----> 2\u001b[1;33m \u001b[1;32mfrom\u001b[0m \u001b[0mtree\u001b[0m \u001b[1;32mimport\u001b[0m \u001b[0mTreeNode\u001b[0m\u001b[1;33m\u001b[0m\u001b[1;33m\u001b[0m\u001b[0m\n\u001b[0m\u001b[0;32m      3\u001b[0m \u001b[1;33m\u001b[0m\u001b[0m\n\u001b[0;32m      4\u001b[0m \u001b[1;32mdef\u001b[0m \u001b[0msortedArrayToBST\u001b[0m\u001b[1;33m(\u001b[0m\u001b[0mnums\u001b[0m\u001b[1;33m)\u001b[0m\u001b[1;33m:\u001b[0m\u001b[1;33m\u001b[0m\u001b[1;33m\u001b[0m\u001b[0m\n\u001b[0;32m      5\u001b[0m \u001b[1;33m\u001b[0m\u001b[0m\n",
      "\u001b[1;31mModuleNotFoundError\u001b[0m: No module named 'tree'"
     ]
    }
   ],
   "source": [
    "import numpy as np\n",
    "from  import TreeNode\n",
    "\n",
    "def sortedArrayToBST(nums):\n",
    "        \n",
    "        if not nums: return None\n",
    "        \n",
    "\t\t# Find the middle point which you can define as root\n",
    "        middle = (len(nums)//2)\n",
    "        \n",
    "        root = TreeNode(nums[middle])\n",
    "        root.left = self.sortedArrayToBST(nums[:middle])\n",
    "        root.right = self.sortedArrayToBST(nums[middle+1:])\n",
    "        \n",
    "        return root\n",
    "sortedArrayToBST([-10,-3,0,5,9])"
   ]
  },
  {
   "cell_type": "code",
   "execution_count": 17,
   "id": "47efb912",
   "metadata": {},
   "outputs": [
    {
     "ename": "SyntaxError",
     "evalue": "Missing parentheses in call to 'print'. Did you mean print(None)? (Temp/ipykernel_11916/2978170182.py, line 3)",
     "output_type": "error",
     "traceback": [
      "\u001b[1;36m  File \u001b[1;32m\"C:\\Users\\test\\AppData\\Local\\Temp/ipykernel_11916/2978170182.py\"\u001b[1;36m, line \u001b[1;32m3\u001b[0m\n\u001b[1;33m    print None\u001b[0m\n\u001b[1;37m          ^\u001b[0m\n\u001b[1;31mSyntaxError\u001b[0m\u001b[1;31m:\u001b[0m Missing parentheses in call to 'print'. Did you mean print(None)?\n"
     ]
    }
   ],
   "source": [
    "def hello(l,r):\n",
    "    if l>r:\n",
    "        return None\n",
    "\n",
    "        m = (l+r)//2\n",
    "        \n",
    "\n",
    "        root = TreeNode(nums[m])\n",
    "\n",
    "        root.left  = hello(l, m-1)\n",
    "        root.right = hello(m+1, r)\n",
    "\n",
    "        return root\n",
    "    \n",
    "    return hello(0, len(nums)-1)\n",
    "hello([0,1,2,3,4,5,6],[])"
   ]
  },
  {
   "cell_type": "code",
   "execution_count": null,
   "id": "6e6e0d1a",
   "metadata": {},
   "outputs": [],
   "source": [
    "l"
   ]
  },
  {
   "cell_type": "code",
   "execution_count": 12,
   "id": "0aab9ab2",
   "metadata": {},
   "outputs": [
    {
     "ename": "TypeError",
     "evalue": "can only concatenate list (not \"int\") to list",
     "output_type": "error",
     "traceback": [
      "\u001b[1;31m---------------------------------------------------------------------------\u001b[0m",
      "\u001b[1;31mTypeError\u001b[0m                                 Traceback (most recent call last)",
      "\u001b[1;32m~\\AppData\\Local\\Temp/ipykernel_11916/477585919.py\u001b[0m in \u001b[0;36m<module>\u001b[1;34m\u001b[0m\n\u001b[0;32m      1\u001b[0m \u001b[0ml\u001b[0m \u001b[1;33m=\u001b[0m \u001b[1;33m[\u001b[0m\u001b[1;36m0\u001b[0m\u001b[1;33m,\u001b[0m\u001b[1;36m1\u001b[0m\u001b[1;33m,\u001b[0m\u001b[1;36m2\u001b[0m\u001b[1;33m,\u001b[0m\u001b[1;36m3\u001b[0m\u001b[1;33m,\u001b[0m\u001b[1;36m4\u001b[0m\u001b[1;33m,\u001b[0m\u001b[1;36m5\u001b[0m\u001b[1;33m,\u001b[0m\u001b[1;36m6\u001b[0m\u001b[1;33m]\u001b[0m\u001b[1;33m\u001b[0m\u001b[1;33m\u001b[0m\u001b[0m\n\u001b[0;32m      2\u001b[0m \u001b[0mr\u001b[0m \u001b[1;33m=\u001b[0m \u001b[1;36m1\u001b[0m\u001b[1;33m\u001b[0m\u001b[1;33m\u001b[0m\u001b[0m\n\u001b[1;32m----> 3\u001b[1;33m \u001b[0mm\u001b[0m \u001b[1;33m=\u001b[0m \u001b[1;33m(\u001b[0m\u001b[0ml\u001b[0m\u001b[1;33m+\u001b[0m\u001b[0mr\u001b[0m\u001b[1;33m)\u001b[0m\u001b[1;33m//\u001b[0m\u001b[1;36m2\u001b[0m\u001b[1;33m\u001b[0m\u001b[1;33m\u001b[0m\u001b[0m\n\u001b[0m\u001b[0;32m      4\u001b[0m \u001b[0mprint\u001b[0m\u001b[1;33m(\u001b[0m\u001b[0mm\u001b[0m\u001b[1;33m)\u001b[0m\u001b[1;33m\u001b[0m\u001b[1;33m\u001b[0m\u001b[0m\n",
      "\u001b[1;31mTypeError\u001b[0m: can only concatenate list (not \"int\") to list"
     ]
    }
   ],
   "source": [
    "l = [0,1,2,3,4,5,6]\n",
    "r = []\n",
    "m = (l+r)//2\n"
   ]
  },
  {
   "cell_type": "code",
   "execution_count": 2,
   "id": "19e73ab6",
   "metadata": {},
   "outputs": [
    {
     "data": {
      "text/plain": [
       "'134'"
      ]
     },
     "execution_count": 2,
     "metadata": {},
     "output_type": "execute_result"
    }
   ],
   "source": [
    "def addStrings(num1,num2):\n",
    "        result, nums = 0, [num1, num2]\n",
    "        for num in nums:\n",
    "            for i, l in enumerate(num[::-1]):\n",
    "                result += 10**i * int(l)\n",
    "        return str(result)\n",
    "addStrings( \"11\",\"123\")"
   ]
  },
  {
   "cell_type": "code",
   "execution_count": 9,
   "id": "db4f0517",
   "metadata": {},
   "outputs": [
    {
     "name": "stdout",
     "output_type": "stream",
     "text": [
      "134\n"
     ]
    }
   ],
   "source": [
    "num1=\"11\"\n",
    "num2 = \"123\"\n",
    "res = 0\n",
    "nums = [num1 , num2]\n",
    "for num in nums:\n",
    "    for i , l in enumerate(num[::-1]):\n",
    "        res = res + 10**i * int(l)\n",
    "res = str(res)\n",
    "print(res)\n",
    "    \n",
    "    \n"
   ]
  },
  {
   "cell_type": "code",
   "execution_count": 11,
   "id": "49969611",
   "metadata": {},
   "outputs": [
    {
     "name": "stdout",
     "output_type": "stream",
     "text": [
      "134\n"
     ]
    },
    {
     "data": {
      "text/plain": [
       "str"
      ]
     },
     "execution_count": 11,
     "metadata": {},
     "output_type": "execute_result"
    }
   ],
   "source": [
    "num1 = '11'\n",
    "num2 = '123'\n",
    "num3 = int(num1)\n",
    "num4 = int(num2)\n",
    "nums = num3 + num4\n",
    "res = str(nums)\n",
    "print(res)\n",
    "type(res)"
   ]
  },
  {
   "cell_type": "code",
   "execution_count": 2,
   "id": "a5936061",
   "metadata": {},
   "outputs": [
    {
     "data": {
      "text/plain": [
       "'abccbaabccba'"
      ]
     },
     "execution_count": 2,
     "metadata": {},
     "output_type": "execute_result"
    }
   ],
   "source": [
    "def sortString(s):\n",
    "        s = list(s)\n",
    "        result = ''\n",
    "        while s:\n",
    "            for letter in sorted(set(s)):\n",
    "                s.remove(letter)\n",
    "                result += letter\n",
    "            for letter in sorted(set(s), reverse=True):\n",
    "                s.remove(letter)\n",
    "                result += letter\n",
    "        return result\n",
    "sortString(\"aaaabbbbcccc\")"
   ]
  },
  {
   "cell_type": "code",
   "execution_count": 11,
   "id": "789e9f4a",
   "metadata": {},
   "outputs": [
    {
     "name": "stdout",
     "output_type": "stream",
     "text": [
      "a\n",
      "ab\n",
      "abc\n",
      "abcc\n",
      "abccb\n",
      "abccba\n",
      "abccbaa\n",
      "abccbaab\n",
      "abccbaabc\n",
      "abccbaabcc\n",
      "abccbaabccb\n",
      "abccbaabccba\n",
      "abccbaabccba\n"
     ]
    },
    {
     "data": {
      "text/plain": [
       "str"
      ]
     },
     "execution_count": 11,
     "metadata": {},
     "output_type": "execute_result"
    }
   ],
   "source": [
    "s = \"aaaabbbbcccc\"\n",
    "s = list(s)\n",
    "res = \"\"\n",
    "while s:\n",
    "    for let in sorted(set(s)):\n",
    "        s.remove(let)\n",
    "        res = res + let\n",
    "        print(res)\n",
    "    for let in sorted(set(s), reverse = True):\n",
    "        s.remove(let)\n",
    "        res = res + let\n",
    "        print(res)\n",
    "print(res)\n",
    "type(res)"
   ]
  },
  {
   "cell_type": "code",
   "execution_count": 1,
   "id": "47239c8e",
   "metadata": {},
   "outputs": [
    {
     "data": {
      "text/plain": [
       "True"
      ]
     },
     "execution_count": 1,
     "metadata": {},
     "output_type": "execute_result"
    }
   ],
   "source": [
    "def areAlmostEqual(s1, s2):\n",
    "        c=0\n",
    "        for i,j in zip(s1,s2):\n",
    "            if i!=j:\n",
    "                c+=1\n",
    "        return s1==s2 or sorted(s1)==sorted(s2) and c==2\n",
    "areAlmostEqual(\"bank\",\"kanb\")"
   ]
  },
  {
   "cell_type": "code",
   "execution_count": 2,
   "id": "5c3e0366",
   "metadata": {},
   "outputs": [
    {
     "name": "stdout",
     "output_type": "stream",
     "text": [
      "True\n"
     ]
    }
   ],
   "source": [
    "s1 = \"bank\"\n",
    "s2 = \"kanb\"\n",
    "c = 0 \n",
    "for i , j in zip(s1,s2):\n",
    "    if i!=j:\n",
    "        c = c+1\n",
    "print(s1==s2 or sorted(s1)==sorted(s2) and c==2)"
   ]
  },
  {
   "cell_type": "code",
   "execution_count": 3,
   "id": "c5e2273a",
   "metadata": {},
   "outputs": [
    {
     "data": {
      "text/plain": [
       "['a', 'b', 'k', 'n']"
      ]
     },
     "execution_count": 3,
     "metadata": {},
     "output_type": "execute_result"
    }
   ],
   "source": [
    "z ='bank'\n",
    "sorted(z)"
   ]
  },
  {
   "cell_type": "code",
   "execution_count": 4,
   "id": "a9a0f732",
   "metadata": {},
   "outputs": [
    {
     "data": {
      "text/plain": [
       "['a', 'b', 'k', 'n']"
      ]
     },
     "execution_count": 4,
     "metadata": {},
     "output_type": "execute_result"
    }
   ],
   "source": [
    "v = 'kanb'\n",
    "sorted(v)"
   ]
  },
  {
   "cell_type": "code",
   "execution_count": 13,
   "id": "552a802a",
   "metadata": {},
   "outputs": [
    {
     "name": "stdout",
     "output_type": "stream",
     "text": [
      "['abc', 'def', 'ghi', 'jxx']\n"
     ]
    }
   ],
   "source": [
    "s = \"abcdefghij\"\n",
    "k = 3\n",
    "fill = \"x\"\n",
    "l = []\n",
    "if len(s)%k!=0:\n",
    "    s=s+fill*(k-len(s)%k)\n",
    "    pass\n",
    "for i in range(0, len(s),k):\n",
    "    l.append(s[i:i+k])\n",
    "print(l)"
   ]
  },
  {
   "cell_type": "code",
   "execution_count": 11,
   "id": "90505a27",
   "metadata": {},
   "outputs": [
    {
     "name": "stdout",
     "output_type": "stream",
     "text": [
      "0\n",
      "3\n",
      "6\n",
      "9\n",
      "12\n"
     ]
    }
   ],
   "source": [
    "string = 'absctftegytsgsd'\n",
    "for i in range(0,len(string),k):\n",
    "    print(i)\n",
    "    "
   ]
  },
  {
   "cell_type": "code",
   "execution_count": 10,
   "id": "562986ad",
   "metadata": {},
   "outputs": [
    {
     "data": {
      "text/plain": [
       "12"
      ]
     },
     "execution_count": 10,
     "metadata": {},
     "output_type": "execute_result"
    }
   ],
   "source": [
    "len(s)\n"
   ]
  },
  {
   "cell_type": "code",
   "execution_count": 1,
   "id": "7aaef150",
   "metadata": {},
   "outputs": [
    {
     "data": {
      "text/plain": [
       "4"
      ]
     },
     "execution_count": 1,
     "metadata": {},
     "output_type": "execute_result"
    }
   ],
   "source": [
    "def countConsistentStrings(allowed, words):\n",
    "        count = 0\n",
    "        for i in range(len(words)):\n",
    "            if sorted(set(list(words[i] + allowed))) == list(sorted(allowed)): count += 1\n",
    "        return count\n",
    "countConsistentStrings(\"cad\",[\"cc\",\"acd\",\"b\",\"ba\",\"bac\",\"bad\",\"ac\",\"d\"])"
   ]
  },
  {
   "cell_type": "code",
   "execution_count": 17,
   "id": "16c5115d",
   "metadata": {},
   "outputs": [
    {
     "name": "stdout",
     "output_type": "stream",
     "text": [
      "4\n"
     ]
    }
   ],
   "source": [
    "allowed = \"cad\"\n",
    "words = [\"cc\",\"acd\",\"b\",\"ba\",\"bac\",\"bad\",\"ac\",\"d\"]\n",
    "count = 0 \n",
    "for i in range(len(words)):\n",
    "    if sorted(set(list(words[i]+allowed)))== list(sorted(allowed)): count +=1\n",
    "print(count)"
   ]
  },
  {
   "cell_type": "code",
   "execution_count": 16,
   "id": "21ae0dc8",
   "metadata": {},
   "outputs": [
    {
     "name": "stdout",
     "output_type": "stream",
     "text": [
      "['a', 'c', 'd']\n"
     ]
    },
    {
     "data": {
      "text/plain": [
       "['a', 'c', 'd']"
      ]
     },
     "execution_count": 16,
     "metadata": {},
     "output_type": "execute_result"
    }
   ],
   "source": [
    "allowed = \"cad\"\n",
    "words = [\"cc\",\"acd\",\"b\",\"ba\",\"bac\",\"bad\",\"ac\",\"d\"]\n",
    "print(sorted(set(list(words[i]+allowed))))\n",
    "list(sorted(allowed))\n"
   ]
  },
  {
   "cell_type": "code",
   "execution_count": 3,
   "id": "0cf375b6",
   "metadata": {},
   "outputs": [
    {
     "data": {
      "text/plain": [
       "True"
      ]
     },
     "execution_count": 3,
     "metadata": {},
     "output_type": "execute_result"
    }
   ],
   "source": [
    "def isIsomorphic(s, t):\n",
    "\t\tif len(t) != len(s) or len(set(s)) != len(set(t)):\n",
    "\t\t\treturn False\n",
    "\t\thash_map = {}\n",
    "\t\tfor char in range(len(t)):\n",
    "\t\t\tif t[char] not in hash_map:\n",
    "\t\t\t\thash_map[t[char]] = s[char]\n",
    "\t\t\telif hash_map[t[char]] != s[char]:\n",
    "\t\t\t\treturn False\n",
    "\t\treturn True\n",
    "isIsomorphic(\"egg\",\"azz\")"
   ]
  },
  {
   "cell_type": "code",
   "execution_count": 11,
   "id": "d0e89a8c",
   "metadata": {},
   "outputs": [
    {
     "name": "stdout",
     "output_type": "stream",
     "text": [
      "False\n",
      "{'a': 'e', 'd': 'b', 'c': 'b'}\n"
     ]
    }
   ],
   "source": [
    "s = \"ebb\"\n",
    "t = \"adc\"\n",
    "if len(t) != len(s) or len(set(s)) != len(set(t)):\n",
    "    print (False)\n",
    "d = {}   \n",
    "for c in range(len(t)):\n",
    "    if t[c] not in d:\n",
    "        d[t[c]]=s[c]\n",
    "    elif d[t[c]] != s[c]:\n",
    "        print(False)\n",
    "print(d)\n",
    "        "
   ]
  },
  {
   "cell_type": "code",
   "execution_count": 1,
   "id": "8e03c427",
   "metadata": {},
   "outputs": [
    {
     "data": {
      "text/plain": [
       "'holle'"
      ]
     },
     "execution_count": 1,
     "metadata": {},
     "output_type": "execute_result"
    }
   ],
   "source": [
    "def reverseVowels(s):\n",
    "        s = list(s)\n",
    "        left = 0\n",
    "        right = len(s) - 1\n",
    "        m = 'aeiouAEIOU'\n",
    "        while left < right:\n",
    "            if s[left] in m and s[right] in m:\n",
    "                \n",
    "                s[left], s[right] = s[right], s[left]\n",
    "                \n",
    "                left += 1; right -= 1\n",
    "            \n",
    "            elif s[left] not in m:\n",
    "                left += 1\n",
    "            \n",
    "            elif s[right] not in m:\n",
    "                right -= 1\n",
    "            \n",
    "        return ''.join(s)\n",
    "reverseVowels(\"hello\")   "
   ]
  },
  {
   "cell_type": "code",
   "execution_count": null,
   "id": "4053dd33",
   "metadata": {},
   "outputs": [],
   "source": []
  },
  {
   "cell_type": "code",
   "execution_count": null,
   "id": "ea2a7e2f",
   "metadata": {},
   "outputs": [],
   "source": [
    "s = \"hello\"\n",
    "s = list(s)\n",
    "z = \"\"\n",
    "left = 0 \n",
    "right = len(s) -1 \n",
    "m = 'aeiouAEIOU'\n",
    "while left < right:\n",
    "    if s[left] in m and s[right] in m:\n",
    "        s[left], s[right] = s[right] , s[left]\n",
    "        left = left + 1 ; right = right - 1\n",
    "    elif s[left] not in m:\n",
    "        left += 1\n",
    "    elif s[right] not in m:\n",
    "        right -= 1\n",
    "print()"
   ]
  },
  {
   "cell_type": "code",
   "execution_count": 3,
   "id": "dcb281fb",
   "metadata": {},
   "outputs": [
    {
     "name": "stdout",
     "output_type": "stream",
     "text": [
      "['h', 'e', 'l', 'l', 'o']\n",
      "['h', 'o', 'l', 'l', 'e']\n",
      "['h', 'o', 'l', 'l', 'e']\n",
      "holle\n"
     ]
    }
   ],
   "source": [
    "s = \"hello\"\n",
    "s = list(s)\n",
    "z = \"\"\n",
    "left = 0 \n",
    "right = len(s) -1 \n",
    "m = 'aeiouAEIOU'\n",
    "while left < right:\n",
    "    if s[left] in m and s[right] in m:\n",
    "        s[left], s[right] = s[right] , s[left]\n",
    "        left = left + 1 ; right = right - 1\n",
    "        print(s)\n",
    "    elif s[left] not in m:\n",
    "        left += 1\n",
    "        print(s)\n",
    "    elif s[right] not in m:\n",
    "        right -= 1\n",
    "        print(s)\n",
    "print(z.join(s))"
   ]
  },
  {
   "cell_type": "code",
   "execution_count": 6,
   "id": "b588683e",
   "metadata": {},
   "outputs": [],
   "source": [
    "def countPairs(nums, k):\n",
    "        n=len(nums)\n",
    "        c=0\n",
    "        for i in range(0,n):\n",
    "            for j in range(i+1,n):\n",
    "                if nums[2]==nums[2] and ((i*j)%k==0):\n",
    "                    c+=1\n",
    "        return \n",
    "countPairs([3,1,2,2,2,1,3],2)"
   ]
  },
  {
   "cell_type": "code",
   "execution_count": 10,
   "id": "504b0e2b",
   "metadata": {},
   "outputs": [
    {
     "name": "stdout",
     "output_type": "stream",
     "text": [
      "4\n"
     ]
    }
   ],
   "source": [
    "nums=[3,1,2,2,2,1,3]\n",
    "k = 2\n",
    "n = len(nums)\n",
    "c = 0 \n",
    "for i in range(0,n):\n",
    "    for j in range(i+1,n):\n",
    "        if nums[i]==nums[j] and ((i*j)%k==0):\n",
    "            c+=1\n",
    "print(c)\n",
    "    "
   ]
  }
 ],
 "metadata": {
  "kernelspec": {
   "display_name": "Python 3 (ipykernel)",
   "language": "python",
   "name": "python3"
  },
  "language_info": {
   "codemirror_mode": {
    "name": "ipython",
    "version": 3
   },
   "file_extension": ".py",
   "mimetype": "text/x-python",
   "name": "python",
   "nbconvert_exporter": "python",
   "pygments_lexer": "ipython3",
   "version": "3.9.7"
  }
 },
 "nbformat": 4,
 "nbformat_minor": 5
}
